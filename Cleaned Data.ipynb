{
 "cells": [
  {
   "cell_type": "code",
   "execution_count": 11,
   "metadata": {},
   "outputs": [],
   "source": [
    "import pandas as pd\n",
    "import numpy as np\n",
    "import matplotlib.pyplot as plt\n",
    "import seaborn as sns\n",
    "\n",
    "df = pd.read_csv(\"kc_house_data.csv\")"
   ]
  },
  {
   "cell_type": "markdown",
   "metadata": {
    "scrolled": true
   },
   "source": [
    "The first step is to get rid of all null values."
   ]
  },
  {
   "cell_type": "code",
   "execution_count": 12,
   "metadata": {},
   "outputs": [
    {
     "data": {
      "text/plain": [
       "id                  0\n",
       "date                0\n",
       "price               0\n",
       "bedrooms            0\n",
       "bathrooms           0\n",
       "sqft_living         0\n",
       "sqft_lot            0\n",
       "floors              0\n",
       "waterfront       2376\n",
       "view               63\n",
       "condition           0\n",
       "grade               0\n",
       "sqft_above          0\n",
       "sqft_basement       0\n",
       "yr_built            0\n",
       "yr_renovated     3842\n",
       "zipcode             0\n",
       "lat                 0\n",
       "long                0\n",
       "sqft_living15       0\n",
       "sqft_lot15          0\n",
       "dtype: int64"
      ]
     },
     "execution_count": 12,
     "metadata": {},
     "output_type": "execute_result"
    }
   ],
   "source": [
    "df.isna().sum()"
   ]
  },
  {
   "cell_type": "code",
   "execution_count": 13,
   "metadata": {},
   "outputs": [],
   "source": [
    "df.yr_renovated = df.yr_renovated.fillna(df.yr_renovated.mean()) "
   ]
  },
  {
   "cell_type": "code",
   "execution_count": 14,
   "metadata": {},
   "outputs": [],
   "source": [
    "df.waterfront = df.waterfront.fillna(0.0)\n",
    "df.waterfront = df.waterfront.astype(float)"
   ]
  },
  {
   "cell_type": "code",
   "execution_count": 15,
   "metadata": {},
   "outputs": [],
   "source": [
    "df.sqft_basement = df.sqft_basement.replace('?', 0)\n",
    "df.sqft_basement = df.sqft_basement.astype(float)"
   ]
  },
  {
   "cell_type": "code",
   "execution_count": 16,
   "metadata": {},
   "outputs": [],
   "source": [
    "df.view = df.view.fillna(0.0)"
   ]
  },
  {
   "cell_type": "markdown",
   "metadata": {},
   "source": [
    "The following command makes sure there are no null values: "
   ]
  },
  {
   "cell_type": "code",
   "execution_count": 17,
   "metadata": {
    "scrolled": true
   },
   "outputs": [
    {
     "data": {
      "text/plain": [
       "id               0\n",
       "date             0\n",
       "price            0\n",
       "bedrooms         0\n",
       "bathrooms        0\n",
       "sqft_living      0\n",
       "sqft_lot         0\n",
       "floors           0\n",
       "waterfront       0\n",
       "view             0\n",
       "condition        0\n",
       "grade            0\n",
       "sqft_above       0\n",
       "sqft_basement    0\n",
       "yr_built         0\n",
       "yr_renovated     0\n",
       "zipcode          0\n",
       "lat              0\n",
       "long             0\n",
       "sqft_living15    0\n",
       "sqft_lot15       0\n",
       "dtype: int64"
      ]
     },
     "execution_count": 17,
     "metadata": {},
     "output_type": "execute_result"
    }
   ],
   "source": [
    "df.isna().sum()"
   ]
  },
  {
   "cell_type": "markdown",
   "metadata": {},
   "source": [
    "Clear. Now, it's time to make sure everything is the right data type. "
   ]
  },
  {
   "cell_type": "code",
   "execution_count": 78,
   "metadata": {},
   "outputs": [
    {
     "data": {
      "text/plain": [
       "array([   0.,  400.,  910., 1530.,  730., 1700.,  300.,  970.,  760.,\n",
       "        720.,  700.,  820.,  780.,  790.,  330., 1620.,  360.,  588.,\n",
       "       1510.,  410.,  990.,  600.,  560.,  550., 1000., 1600.,  500.,\n",
       "       1040.,  880., 1010.,  240.,  265.,  290.,  800.,  540.,  710.,\n",
       "        840.,  380.,  770.,  480.,  570., 1490.,  620., 1250., 1270.,\n",
       "        120.,  650.,  180., 1130.,  450., 1640., 1460., 1020., 1030.,\n",
       "        750.,  640., 1070.,  490., 1310.,  630., 2000.,  390.,  430.,\n",
       "        850.,  210., 1430., 1950.,  440.,  220., 1160.,  860.,  580.,\n",
       "       2060., 1820., 1180.,  200., 1150., 1200.,  680.,  530., 1450.,\n",
       "       1170., 1080.,  960.,  280.,  870., 1100.,  460., 1400.,  660.,\n",
       "       1220.,  900.,  420., 1580., 1380.,  475.,  690.,  270.,  350.,\n",
       "        935., 1370.,  980., 1470.,  160.,  950.,   50.,  740., 1780.,\n",
       "       1900.,  340.,  470.,  370.,  140., 1760.,  130.,  520.,  890.,\n",
       "       1110.,  150., 1720.,  810.,  190., 1290.,  670., 1800., 1120.,\n",
       "       1810.,   60., 1050.,  940.,  310.,  930., 1390.,  610., 1830.,\n",
       "       1300.,  510., 1330., 1590.,  920., 1320., 1420., 1240., 1960.,\n",
       "       1560., 2020., 1190., 2110., 1280.,  250., 2390., 1230.,  170.,\n",
       "        830., 1260., 1410., 1340.,  590., 1500., 1140.,  260.,  100.,\n",
       "        320., 1480., 1060., 1284., 1670., 1350., 2570., 1090.,  110.,\n",
       "       2500.,   90., 1940., 1550., 2350., 2490., 1481., 1360., 1135.,\n",
       "       1520., 1850., 1660., 2130., 2600., 1690.,  243., 1210., 1024.,\n",
       "       1798., 1610., 1440., 1570., 1650.,  704., 1910., 1630., 2360.,\n",
       "       1852., 2090., 2400., 1790., 2150.,  230.,   70., 1680., 2100.,\n",
       "       3000., 1870., 1710., 2030.,  875., 1540., 2850., 2170.,  506.,\n",
       "        906.,  145., 2040.,  784., 1750.,  374.,  518., 2720., 2730.,\n",
       "       1840., 2160., 1920., 2330., 1860., 2050., 4820., 1913.,   80.,\n",
       "       2010., 3260., 2200.,  415., 1730.,  652., 2196., 1930.,  515.,\n",
       "         40., 2080., 2580., 1548., 1740.,  235.,  861., 1890., 2220.,\n",
       "        792., 2070., 2250., 2240., 1990.,  768., 2550.,  435., 1008.,\n",
       "       2300., 2610.,  666., 3500.,  172., 1816., 2190., 1245., 1525.,\n",
       "       1880.,  862.,  946., 1281.,  414., 2180.,  276., 1248.,  602.,\n",
       "        516.,  176.,  225., 1275.,  266.,  283.,   65., 2310.,   10.,\n",
       "       1770., 2120.,  295.,  207.,  915.,  556.,  417.,  143.,  508.,\n",
       "       2810.,   20.,  274.,  248.])"
      ]
     },
     "execution_count": 78,
     "metadata": {},
     "output_type": "execute_result"
    }
   ],
   "source": []
  },
  {
   "cell_type": "code",
   "execution_count": null,
   "metadata": {},
   "outputs": [],
   "source": []
  },
  {
   "cell_type": "markdown",
   "metadata": {},
   "source": [
    "From what we can see above, we need floors, waterfront, view, yr_renovated, lat, and long should be integers and not floats. "
   ]
  },
  {
   "cell_type": "code",
   "execution_count": 18,
   "metadata": {},
   "outputs": [],
   "source": [
    "df.floors = df.floors.astype(int)\n",
    "df.waterfront = df.waterfront.astype(int)\n",
    "df.view = df.view.astype(int)\n",
    "df.yr_renovated = df.yr_renovated.astype(int)\n",
    "df.lat = df.lat.astype(int)\n",
    "df.long = df.long.astype(int)"
   ]
  },
  {
   "cell_type": "code",
   "execution_count": 19,
   "metadata": {},
   "outputs": [
    {
     "name": "stdout",
     "output_type": "stream",
     "text": [
      "<class 'pandas.core.frame.DataFrame'>\n",
      "RangeIndex: 21597 entries, 0 to 21596\n",
      "Data columns (total 21 columns):\n",
      "id               21597 non-null int64\n",
      "date             21597 non-null object\n",
      "price            21597 non-null float64\n",
      "bedrooms         21597 non-null int64\n",
      "bathrooms        21597 non-null float64\n",
      "sqft_living      21597 non-null int64\n",
      "sqft_lot         21597 non-null int64\n",
      "floors           21597 non-null int64\n",
      "waterfront       21597 non-null int64\n",
      "view             21597 non-null int64\n",
      "condition        21597 non-null int64\n",
      "grade            21597 non-null int64\n",
      "sqft_above       21597 non-null int64\n",
      "sqft_basement    21597 non-null float64\n",
      "yr_built         21597 non-null int64\n",
      "yr_renovated     21597 non-null int64\n",
      "zipcode          21597 non-null int64\n",
      "lat              21597 non-null int64\n",
      "long             21597 non-null int64\n",
      "sqft_living15    21597 non-null int64\n",
      "sqft_lot15       21597 non-null int64\n",
      "dtypes: float64(3), int64(17), object(1)\n",
      "memory usage: 3.5+ MB\n"
     ]
    }
   ],
   "source": [
    "df.info()"
   ]
  },
  {
   "cell_type": "code",
   "execution_count": 79,
   "metadata": {},
   "outputs": [
    {
     "ename": "TypeError",
     "evalue": "ufunc 'isnan' not supported for the input types, and the inputs could not be safely coerced to any supported types according to the casting rule ''safe''",
     "output_type": "error",
     "traceback": [
      "\u001b[0;31m---------------------------------------------------------------------------\u001b[0m",
      "\u001b[0;31mTypeError\u001b[0m                                 Traceback (most recent call last)",
      "\u001b[0;32m<ipython-input-79-0f5efeee8186>\u001b[0m in \u001b[0;36m<module>\u001b[0;34m()\u001b[0m\n\u001b[1;32m      2\u001b[0m \u001b[0;31m#sns.heatmap(corr)\u001b[0m\u001b[0;34m\u001b[0m\u001b[0;34m\u001b[0m\u001b[0m\n\u001b[1;32m      3\u001b[0m \u001b[0;34m\u001b[0m\u001b[0m\n\u001b[0;32m----> 4\u001b[0;31m \u001b[0msns\u001b[0m\u001b[0;34m.\u001b[0m\u001b[0mheatmap\u001b[0m\u001b[0;34m(\u001b[0m\u001b[0mdf\u001b[0m\u001b[0;34m)\u001b[0m\u001b[0;34m\u001b[0m\u001b[0m\n\u001b[0m",
      "\u001b[0;32m/anaconda3/envs/learn-env/lib/python3.6/site-packages/seaborn/matrix.py\u001b[0m in \u001b[0;36mheatmap\u001b[0;34m(data, vmin, vmax, cmap, center, robust, annot, fmt, annot_kws, linewidths, linecolor, cbar, cbar_kws, cbar_ax, square, xticklabels, yticklabels, mask, ax, **kwargs)\u001b[0m\n\u001b[1;32m    515\u001b[0m     plotter = _HeatMapper(data, vmin, vmax, cmap, center, robust, annot, fmt,\n\u001b[1;32m    516\u001b[0m                           \u001b[0mannot_kws\u001b[0m\u001b[0;34m,\u001b[0m \u001b[0mcbar\u001b[0m\u001b[0;34m,\u001b[0m \u001b[0mcbar_kws\u001b[0m\u001b[0;34m,\u001b[0m \u001b[0mxticklabels\u001b[0m\u001b[0;34m,\u001b[0m\u001b[0;34m\u001b[0m\u001b[0m\n\u001b[0;32m--> 517\u001b[0;31m                           yticklabels, mask)\n\u001b[0m\u001b[1;32m    518\u001b[0m \u001b[0;34m\u001b[0m\u001b[0m\n\u001b[1;32m    519\u001b[0m     \u001b[0;31m# Add the pcolormesh kwargs here\u001b[0m\u001b[0;34m\u001b[0m\u001b[0;34m\u001b[0m\u001b[0m\n",
      "\u001b[0;32m/anaconda3/envs/learn-env/lib/python3.6/site-packages/seaborn/matrix.py\u001b[0m in \u001b[0;36m__init__\u001b[0;34m(self, data, vmin, vmax, cmap, center, robust, annot, fmt, annot_kws, cbar, cbar_kws, xticklabels, yticklabels, mask)\u001b[0m\n\u001b[1;32m    165\u001b[0m         \u001b[0;31m# Determine good default values for the colormapping\u001b[0m\u001b[0;34m\u001b[0m\u001b[0;34m\u001b[0m\u001b[0m\n\u001b[1;32m    166\u001b[0m         self._determine_cmap_params(plot_data, vmin, vmax,\n\u001b[0;32m--> 167\u001b[0;31m                                     cmap, center, robust)\n\u001b[0m\u001b[1;32m    168\u001b[0m \u001b[0;34m\u001b[0m\u001b[0m\n\u001b[1;32m    169\u001b[0m         \u001b[0;31m# Sort out the annotations\u001b[0m\u001b[0;34m\u001b[0m\u001b[0;34m\u001b[0m\u001b[0m\n",
      "\u001b[0;32m/anaconda3/envs/learn-env/lib/python3.6/site-packages/seaborn/matrix.py\u001b[0m in \u001b[0;36m_determine_cmap_params\u001b[0;34m(self, plot_data, vmin, vmax, cmap, center, robust)\u001b[0m\n\u001b[1;32m    202\u001b[0m                                cmap, center, robust):\n\u001b[1;32m    203\u001b[0m         \u001b[0;34m\"\"\"Use some heuristics to set good defaults for colorbar and range.\"\"\"\u001b[0m\u001b[0;34m\u001b[0m\u001b[0m\n\u001b[0;32m--> 204\u001b[0;31m         \u001b[0mcalc_data\u001b[0m \u001b[0;34m=\u001b[0m \u001b[0mplot_data\u001b[0m\u001b[0;34m.\u001b[0m\u001b[0mdata\u001b[0m\u001b[0;34m[\u001b[0m\u001b[0;34m~\u001b[0m\u001b[0mnp\u001b[0m\u001b[0;34m.\u001b[0m\u001b[0misnan\u001b[0m\u001b[0;34m(\u001b[0m\u001b[0mplot_data\u001b[0m\u001b[0;34m.\u001b[0m\u001b[0mdata\u001b[0m\u001b[0;34m)\u001b[0m\u001b[0;34m]\u001b[0m\u001b[0;34m\u001b[0m\u001b[0m\n\u001b[0m\u001b[1;32m    205\u001b[0m         \u001b[0;32mif\u001b[0m \u001b[0mvmin\u001b[0m \u001b[0;32mis\u001b[0m \u001b[0;32mNone\u001b[0m\u001b[0;34m:\u001b[0m\u001b[0;34m\u001b[0m\u001b[0m\n\u001b[1;32m    206\u001b[0m             \u001b[0mvmin\u001b[0m \u001b[0;34m=\u001b[0m \u001b[0mnp\u001b[0m\u001b[0;34m.\u001b[0m\u001b[0mpercentile\u001b[0m\u001b[0;34m(\u001b[0m\u001b[0mcalc_data\u001b[0m\u001b[0;34m,\u001b[0m \u001b[0;36m2\u001b[0m\u001b[0;34m)\u001b[0m \u001b[0;32mif\u001b[0m \u001b[0mrobust\u001b[0m \u001b[0;32melse\u001b[0m \u001b[0mcalc_data\u001b[0m\u001b[0;34m.\u001b[0m\u001b[0mmin\u001b[0m\u001b[0;34m(\u001b[0m\u001b[0;34m)\u001b[0m\u001b[0;34m\u001b[0m\u001b[0m\n",
      "\u001b[0;31mTypeError\u001b[0m: ufunc 'isnan' not supported for the input types, and the inputs could not be safely coerced to any supported types according to the casting rule ''safe''"
     ]
    }
   ],
   "source": [
    "#corr = df.corr()\n",
    "#sns.heatmap(corr)\n",
    "\n",
    "sns.heatmap(df)"
   ]
  },
  {
   "cell_type": "markdown",
   "metadata": {},
   "source": [
    "Now the data is clean, it is time to check for multicollinearity between values. This means the likliehood that dependent variable perdicts another dependent variable (as opposed to the independent variable). To do that, a heat map will be used. Very light colors indicates high multicollinearity "
   ]
  },
  {
   "cell_type": "code",
   "execution_count": 479,
   "metadata": {},
   "outputs": [
    {
     "ename": "TypeError",
     "evalue": "isinstance() arg 2 must be a type or tuple of types",
     "output_type": "error",
     "traceback": [
      "\u001b[0;31m---------------------------------------------------------------------------\u001b[0m",
      "\u001b[0;31mTypeError\u001b[0m                                 Traceback (most recent call last)",
      "\u001b[0;32m<ipython-input-479-365db0cdff03>\u001b[0m in \u001b[0;36m<module>\u001b[0;34m()\u001b[0m\n\u001b[0;32m----> 1\u001b[0;31m \u001b[0msns\u001b[0m\u001b[0;34m.\u001b[0m\u001b[0mheatmap\u001b[0m\u001b[0;34m(\u001b[0m\u001b[0mdf\u001b[0m\u001b[0;34m,\u001b[0m \u001b[0mannot\u001b[0m\u001b[0;34m=\u001b[0m\u001b[0;32mTrue\u001b[0m\u001b[0;34m)\u001b[0m\u001b[0;34m\u001b[0m\u001b[0m\n\u001b[0m",
      "\u001b[0;32m/anaconda3/envs/learn-env/lib/python3.6/site-packages/seaborn/matrix.py\u001b[0m in \u001b[0;36mheatmap\u001b[0;34m(data, vmin, vmax, cmap, center, robust, annot, fmt, annot_kws, linewidths, linecolor, cbar, cbar_kws, cbar_ax, square, xticklabels, yticklabels, mask, ax, **kwargs)\u001b[0m\n\u001b[1;32m    515\u001b[0m     plotter = _HeatMapper(data, vmin, vmax, cmap, center, robust, annot, fmt,\n\u001b[1;32m    516\u001b[0m                           \u001b[0mannot_kws\u001b[0m\u001b[0;34m,\u001b[0m \u001b[0mcbar\u001b[0m\u001b[0;34m,\u001b[0m \u001b[0mcbar_kws\u001b[0m\u001b[0;34m,\u001b[0m \u001b[0mxticklabels\u001b[0m\u001b[0;34m,\u001b[0m\u001b[0;34m\u001b[0m\u001b[0m\n\u001b[0;32m--> 517\u001b[0;31m                           yticklabels, mask)\n\u001b[0m\u001b[1;32m    518\u001b[0m \u001b[0;34m\u001b[0m\u001b[0m\n\u001b[1;32m    519\u001b[0m     \u001b[0;31m# Add the pcolormesh kwargs here\u001b[0m\u001b[0;34m\u001b[0m\u001b[0;34m\u001b[0m\u001b[0m\n",
      "\u001b[0;32m/anaconda3/envs/learn-env/lib/python3.6/site-packages/seaborn/matrix.py\u001b[0m in \u001b[0;36m__init__\u001b[0;34m(self, data, vmin, vmax, cmap, center, robust, annot, fmt, annot_kws, cbar, cbar_kws, xticklabels, yticklabels, mask)\u001b[0m\n\u001b[1;32m    104\u001b[0m         \u001b[0;31m# We always want to have a DataFrame with semantic information\u001b[0m\u001b[0;34m\u001b[0m\u001b[0;34m\u001b[0m\u001b[0m\n\u001b[1;32m    105\u001b[0m         \u001b[0;31m# and an ndarray to pass to matplotlib\u001b[0m\u001b[0;34m\u001b[0m\u001b[0;34m\u001b[0m\u001b[0m\n\u001b[0;32m--> 106\u001b[0;31m         \u001b[0;32mif\u001b[0m \u001b[0misinstance\u001b[0m\u001b[0;34m(\u001b[0m\u001b[0mdata\u001b[0m\u001b[0;34m,\u001b[0m \u001b[0mpd\u001b[0m\u001b[0;34m.\u001b[0m\u001b[0mDataFrame\u001b[0m\u001b[0;34m)\u001b[0m\u001b[0;34m:\u001b[0m\u001b[0;34m\u001b[0m\u001b[0m\n\u001b[0m\u001b[1;32m    107\u001b[0m             \u001b[0mplot_data\u001b[0m \u001b[0;34m=\u001b[0m \u001b[0mdata\u001b[0m\u001b[0;34m.\u001b[0m\u001b[0mvalues\u001b[0m\u001b[0;34m\u001b[0m\u001b[0m\n\u001b[1;32m    108\u001b[0m         \u001b[0;32melse\u001b[0m\u001b[0;34m:\u001b[0m\u001b[0;34m\u001b[0m\u001b[0m\n",
      "\u001b[0;31mTypeError\u001b[0m: isinstance() arg 2 must be a type or tuple of types"
     ]
    }
   ],
   "source": [
    "\n",
    "\n"
   ]
  },
  {
   "cell_type": "markdown",
   "metadata": {},
   "source": [
    "\n",
    "From this heat graph, it's clear that not all of the features will be used in the model. bathrooms and bedrooms and sqft_living is a good example, as is Floors is also very red.\n",
    "\n",
    "It also appears that something is up with lat - from checking the unique values, it is clear that all of the houses in this county have the same latitute, which makes sense. It will be removed from the model. Same with id. \n",
    "\n"
   ]
  },
  {
   "cell_type": "markdown",
   "metadata": {},
   "source": [
    "Now, it's time explore the data - histograms will be made of each of the variables. "
   ]
  },
  {
   "cell_type": "code",
   "execution_count": 22,
   "metadata": {
    "scrolled": true
   },
   "outputs": [
    {
     "data": {
      "image/png": "[encoded data removed]",
      "text/plain": [
       "<Figure size 1440x1296 with 20 Axes>"
      ]
     },
     "metadata": {
      "needs_background": "light"
     },
     "output_type": "display_data"
    }
   ],
   "source": [
    "df.hist(figsize = (20,18));"
   ]
  },
  {
   "cell_type": "markdown",
   "metadata": {},
   "source": [
    "From the histograms, it's clear that transformations need to be made, as well getting rid of outliers. \"Bedrooms\" is a clear example of outliers, \"sqft_lot\" is a good example of data that needs to be log transformed, and categorical variables such as \"view\" and \"condition\" will be min/maxed. "
   ]
  },
  {
   "cell_type": "markdown",
   "metadata": {},
   "source": [
    "Outliers:\n"
   ]
  },
  {
   "cell_type": "code",
   "execution_count": 23,
   "metadata": {},
   "outputs": [],
   "source": [
    "df = df[df.bedrooms != 33]\n",
    "df = df[df.bedrooms != 11]\n",
    "df = df[df.bedrooms != 10]\n",
    "df = df[df.bedrooms != 9]\n",
    "df = df[df.bathrooms != 8]\n",
    "df = df[df.bathrooms != 7.75]\n",
    "df = df[df.bathrooms != 7.25]\n"
   ]
  },
  {
   "cell_type": "markdown",
   "metadata": {},
   "source": [
    "Log Transformations:"
   ]
  },
  {
   "cell_type": "code",
   "execution_count": 24,
   "metadata": {},
   "outputs": [],
   "source": [
    "df.sqft_living = np.log(df.sqft_living)\n",
    "df.sqft_living15 = np.log(df.sqft_living15)\n",
    "df.sqft_lot15 = np.log(df.sqft_lot15)\n",
    "df.sqft_lot = np.log(df.sqft_lot)\n",
    "df.sqft_above = np.log(df.sqft_above)\n",
    "#kc_features.sqft_basement = np.log(kc_features.sqft_basement)\n",
    "df.price = np.log(df.price)\n",
    "\n"
   ]
  },
  {
   "cell_type": "markdown",
   "metadata": {},
   "source": [
    "Min Max Scaling: "
   ]
  },
  {
   "cell_type": "code",
   "execution_count": 25,
   "metadata": {},
   "outputs": [],
   "source": [
    "df.condition = (df.condition-min(df.condition))/(max(df.condition)-min(df.condition))\t\n",
    "df.view = (df.view-min(df.view))/(max(df.view)-min(df.view))\t"
   ]
  },
  {
   "cell_type": "code",
   "execution_count": 26,
   "metadata": {},
   "outputs": [
    {
     "data": {
      "image/png": "[encoded data removed]",
      "text/plain": [
       "<Figure size 1440x1296 with 20 Axes>"
      ]
     },
     "metadata": {
      "needs_background": "light"
     },
     "output_type": "display_data"
    }
   ],
   "source": [
    "df.hist(figsize = (20,18));"
   ]
  },
  {
   "cell_type": "markdown",
   "metadata": {
    "scrolled": true
   },
   "source": [
    "The data looks good, with the exception of waterfront, yr_renovated, yr_built and zipcode. These need their own type of transformation based on the fact that they are not numerically related. "
   ]
  },
  {
   "cell_type": "markdown",
   "metadata": {},
   "source": [
    "For the yr_built, we will subtract the year from 2019:"
   ]
  },
  {
   "cell_type": "code",
   "execution_count": 27,
   "metadata": {},
   "outputs": [],
   "source": [
    "df[\"Age_of_house\"] = 2019 - df[\"yr_built\"]\n",
    "df[\"Age_of_renovations\"] = 2019 - df[\"yr_renovated\"]"
   ]
  },
  {
   "cell_type": "code",
   "execution_count": 28,
   "metadata": {
    "scrolled": true
   },
   "outputs": [
    {
     "data": {
      "image/png": "[encoded data removed]",
      "text/plain": [
       "<Figure size 1440x1296 with 16 Axes>"
      ]
     },
     "metadata": {
      "needs_background": "light"
     },
     "output_type": "display_data"
    }
   ],
   "source": [
    "kc_features.hist(figsize = (20,18));"
   ]
  },
  {
   "cell_type": "markdown",
   "metadata": {},
   "source": [
    "Next in transforming, is changing the variable type. \"Waterfront\" is a yes/no, so that should be a category. "
   ]
  },
  {
   "cell_type": "code",
   "execution_count": 29,
   "metadata": {},
   "outputs": [],
   "source": [
    "df.waterfront = df.waterfront.astype('category')"
   ]
  },
  {
   "cell_type": "code",
   "execution_count": 30,
   "metadata": {},
   "outputs": [],
   "source": [
    "#bins = ['1900-1920', '1921-1940', '1941-1960', '1961-1980', '1981-2000', '2001-2020']\n",
    "\n",
    "#kc_features.yr_built = pd.cut(kc_features['yr_built'], 6, labels=bins)"
   ]
  },
  {
   "cell_type": "code",
   "execution_count": 31,
   "metadata": {
    "scrolled": false
   },
   "outputs": [
    {
     "name": "stdout",
     "output_type": "stream",
     "text": [
      "<class 'pandas.core.frame.DataFrame'>\n",
      "Int64Index: 21583 entries, 0 to 21596\n",
      "Data columns (total 23 columns):\n",
      "id                    21583 non-null int64\n",
      "date                  21583 non-null object\n",
      "price                 21583 non-null float64\n",
      "bedrooms              21583 non-null int64\n",
      "bathrooms             21583 non-null float64\n",
      "sqft_living           21583 non-null float64\n",
      "sqft_lot              21583 non-null float64\n",
      "floors                21583 non-null int64\n",
      "waterfront            21583 non-null category\n",
      "view                  21583 non-null float64\n",
      "condition             21583 non-null float64\n",
      "grade                 21583 non-null int64\n",
      "sqft_above            21583 non-null float64\n",
      "sqft_basement         21583 non-null float64\n",
      "yr_built              21583 non-null int64\n",
      "yr_renovated          21583 non-null int64\n",
      "zipcode               21583 non-null int64\n",
      "lat                   21583 non-null int64\n",
      "long                  21583 non-null int64\n",
      "sqft_living15         21583 non-null float64\n",
      "sqft_lot15            21583 non-null float64\n",
      "Age_of_house          21583 non-null int64\n",
      "Age_of_renovations    21583 non-null int64\n",
      "dtypes: category(1), float64(10), int64(11), object(1)\n",
      "memory usage: 3.8+ MB\n"
     ]
    }
   ],
   "source": [
    "df.info()"
   ]
  },
  {
   "cell_type": "markdown",
   "metadata": {},
   "source": [
    "Now, it's time to run the model. From the above testing, it's apparent that ID, yr_renovated, yr_built, lat and long need to be removed. yr_renovated and yr_built are replaced with their \"age\" counterparts. "
   ]
  },
  {
   "cell_type": "code",
   "execution_count": 44,
   "metadata": {},
   "outputs": [],
   "source": [
    "df = df.drop([\"yr_renovated\", \"yr_built\", \"id\", \"lat\", \"long\"], axis=1)"
   ]
  },
  {
   "cell_type": "code",
   "execution_count": 45,
   "metadata": {},
   "outputs": [],
   "source": [
    "import statsmodels.api as sm\n",
    "from statsmodels.formula.api import ols"
   ]
  },
  {
   "cell_type": "code",
   "execution_count": null,
   "metadata": {},
   "outputs": [],
   "source": []
  },
  {
   "cell_type": "code",
   "execution_count": 46,
   "metadata": {},
   "outputs": [],
   "source": [
    "data_fin = pd.concat([df.price, df.sqft_living, df.sqft_living15, df.sqft_above, df.sqft_lot, df.sqft_lot15, df.condition, df.view, df.waterfront, df.bedrooms, df.Age_of_house, df.Age_of_renovations], axis=1)"
   ]
  },
  {
   "cell_type": "code",
   "execution_count": null,
   "metadata": {},
   "outputs": [],
   "source": []
  },
  {
   "cell_type": "code",
   "execution_count": 47,
   "metadata": {},
   "outputs": [
    {
     "data": {
      "text/html": [
       "<table class=\"simpletable\">\n",
       "<caption>OLS Regression Results</caption>\n",
       "<tr>\n",
       "  <th>Dep. Variable:</th>          <td>price</td>      <th>  R-squared:         </th> <td>   0.584</td> \n",
       "</tr>\n",
       "<tr>\n",
       "  <th>Model:</th>                   <td>OLS</td>       <th>  Adj. R-squared:    </th> <td>   0.584</td> \n",
       "</tr>\n",
       "<tr>\n",
       "  <th>Method:</th>             <td>Least Squares</td>  <th>  F-statistic:       </th> <td>   2523.</td> \n",
       "</tr>\n",
       "<tr>\n",
       "  <th>Date:</th>             <td>Thu, 07 Mar 2019</td> <th>  Prob (F-statistic):</th>  <td>  0.00</td>  \n",
       "</tr>\n",
       "<tr>\n",
       "  <th>Time:</th>                 <td>06:32:20</td>     <th>  Log-Likelihood:    </th> <td> -7285.4</td> \n",
       "</tr>\n",
       "<tr>\n",
       "  <th>No. Observations:</th>      <td> 21583</td>      <th>  AIC:               </th> <td>1.460e+04</td>\n",
       "</tr>\n",
       "<tr>\n",
       "  <th>Df Residuals:</th>          <td> 21570</td>      <th>  BIC:               </th> <td>1.470e+04</td>\n",
       "</tr>\n",
       "<tr>\n",
       "  <th>Df Model:</th>              <td>    12</td>      <th>                     </th>     <td> </td>    \n",
       "</tr>\n",
       "<tr>\n",
       "  <th>Covariance Type:</th>      <td>nonrobust</td>    <th>                     </th>     <td> </td>    \n",
       "</tr>\n",
       "</table>\n",
       "<table class=\"simpletable\">\n",
       "<tr>\n",
       "           <td></td>             <th>coef</th>     <th>std err</th>      <th>t</th>      <th>P>|t|</th>  <th>[0.025</th>    <th>0.975]</th>  \n",
       "</tr>\n",
       "<tr>\n",
       "  <th>Intercept</th>          <td>    5.3207</td> <td>    0.074</td> <td>   72.055</td> <td> 0.000</td> <td>    5.176</td> <td>    5.465</td>\n",
       "</tr>\n",
       "<tr>\n",
       "  <th>waterfront[T.1]</th>    <td>    0.3935</td> <td>    0.031</td> <td>   12.864</td> <td> 0.000</td> <td>    0.334</td> <td>    0.453</td>\n",
       "</tr>\n",
       "<tr>\n",
       "  <th>sqft_living</th>        <td>    0.5212</td> <td>    0.014</td> <td>   36.086</td> <td> 0.000</td> <td>    0.493</td> <td>    0.550</td>\n",
       "</tr>\n",
       "<tr>\n",
       "  <th>sqft_living15</th>      <td>    0.4376</td> <td>    0.011</td> <td>   38.526</td> <td> 0.000</td> <td>    0.415</td> <td>    0.460</td>\n",
       "</tr>\n",
       "<tr>\n",
       "  <th>sqft_lot</th>           <td>   -0.0442</td> <td>    0.007</td> <td>   -6.689</td> <td> 0.000</td> <td>   -0.057</td> <td>   -0.031</td>\n",
       "</tr>\n",
       "<tr>\n",
       "  <th>sqft_lot15</th>         <td>   -0.0533</td> <td>    0.007</td> <td>   -7.288</td> <td> 0.000</td> <td>   -0.068</td> <td>   -0.039</td>\n",
       "</tr>\n",
       "<tr>\n",
       "  <th>sqft_above</th>         <td>    0.1457</td> <td>    0.012</td> <td>   12.414</td> <td> 0.000</td> <td>    0.123</td> <td>    0.169</td>\n",
       "</tr>\n",
       "<tr>\n",
       "  <th>bedrooms</th>           <td>   -0.0792</td> <td>    0.003</td> <td>  -22.983</td> <td> 0.000</td> <td>   -0.086</td> <td>   -0.072</td>\n",
       "</tr>\n",
       "<tr>\n",
       "  <th>Age_of_house</th>       <td>    0.0046</td> <td>    0.000</td> <td>   42.980</td> <td> 0.000</td> <td>    0.004</td> <td>    0.005</td>\n",
       "</tr>\n",
       "<tr>\n",
       "  <th>Age_of_renovations</th> <td> -2.48e-05</td> <td> 6.74e-06</td> <td>   -3.682</td> <td> 0.000</td> <td> -3.8e-05</td> <td>-1.16e-05</td>\n",
       "</tr>\n",
       "<tr>\n",
       "  <th>condition</th>          <td>    0.1394</td> <td>    0.016</td> <td>    8.895</td> <td> 0.000</td> <td>    0.109</td> <td>    0.170</td>\n",
       "</tr>\n",
       "<tr>\n",
       "  <th>view</th>               <td>    0.2888</td> <td>    0.014</td> <td>   20.795</td> <td> 0.000</td> <td>    0.262</td> <td>    0.316</td>\n",
       "</tr>\n",
       "<tr>\n",
       "  <th>bathrooms</th>          <td>    0.1318</td> <td>    0.005</td> <td>   24.817</td> <td> 0.000</td> <td>    0.121</td> <td>    0.142</td>\n",
       "</tr>\n",
       "</table>\n",
       "<table class=\"simpletable\">\n",
       "<tr>\n",
       "  <th>Omnibus:</th>       <td> 7.014</td> <th>  Durbin-Watson:     </th> <td>   1.965</td>\n",
       "</tr>\n",
       "<tr>\n",
       "  <th>Prob(Omnibus):</th> <td> 0.030</td> <th>  Jarque-Bera (JB):  </th> <td>   7.029</td>\n",
       "</tr>\n",
       "<tr>\n",
       "  <th>Skew:</th>          <td>-0.044</td> <th>  Prob(JB):          </th> <td>  0.0298</td>\n",
       "</tr>\n",
       "<tr>\n",
       "  <th>Kurtosis:</th>      <td> 2.990</td> <th>  Cond. No.          </th> <td>6.33e+04</td>\n",
       "</tr>\n",
       "</table><br/><br/>Warnings:<br/>[1] Standard Errors assume that the covariance matrix of the errors is correctly specified.<br/>[2] The condition number is large, 6.33e+04. This might indicate that there are<br/>strong multicollinearity or other numerical problems."
      ],
      "text/plain": [
       "<class 'statsmodels.iolib.summary.Summary'>\n",
       "\"\"\"\n",
       "                            OLS Regression Results                            \n",
       "==============================================================================\n",
       "Dep. Variable:                  price   R-squared:                       0.584\n",
       "Model:                            OLS   Adj. R-squared:                  0.584\n",
       "Method:                 Least Squares   F-statistic:                     2523.\n",
       "Date:                Thu, 07 Mar 2019   Prob (F-statistic):               0.00\n",
       "Time:                        06:32:20   Log-Likelihood:                -7285.4\n",
       "No. Observations:               21583   AIC:                         1.460e+04\n",
       "Df Residuals:                   21570   BIC:                         1.470e+04\n",
       "Df Model:                          12                                         \n",
       "Covariance Type:            nonrobust                                         \n",
       "======================================================================================\n",
       "                         coef    std err          t      P>|t|      [0.025      0.975]\n",
       "--------------------------------------------------------------------------------------\n",
       "Intercept              5.3207      0.074     72.055      0.000       5.176       5.465\n",
       "waterfront[T.1]        0.3935      0.031     12.864      0.000       0.334       0.453\n",
       "sqft_living            0.5212      0.014     36.086      0.000       0.493       0.550\n",
       "sqft_living15          0.4376      0.011     38.526      0.000       0.415       0.460\n",
       "sqft_lot              -0.0442      0.007     -6.689      0.000      -0.057      -0.031\n",
       "sqft_lot15            -0.0533      0.007     -7.288      0.000      -0.068      -0.039\n",
       "sqft_above             0.1457      0.012     12.414      0.000       0.123       0.169\n",
       "bedrooms              -0.0792      0.003    -22.983      0.000      -0.086      -0.072\n",
       "Age_of_house           0.0046      0.000     42.980      0.000       0.004       0.005\n",
       "Age_of_renovations  -2.48e-05   6.74e-06     -3.682      0.000    -3.8e-05   -1.16e-05\n",
       "condition              0.1394      0.016      8.895      0.000       0.109       0.170\n",
       "view                   0.2888      0.014     20.795      0.000       0.262       0.316\n",
       "bathrooms              0.1318      0.005     24.817      0.000       0.121       0.142\n",
       "==============================================================================\n",
       "Omnibus:                        7.014   Durbin-Watson:                   1.965\n",
       "Prob(Omnibus):                  0.030   Jarque-Bera (JB):                7.029\n",
       "Skew:                          -0.044   Prob(JB):                       0.0298\n",
       "Kurtosis:                       2.990   Cond. No.                     6.33e+04\n",
       "==============================================================================\n",
       "\n",
       "Warnings:\n",
       "[1] Standard Errors assume that the covariance matrix of the errors is correctly specified.\n",
       "[2] The condition number is large, 6.33e+04. This might indicate that there are\n",
       "strong multicollinearity or other numerical problems.\n",
       "\"\"\""
      ]
     },
     "execution_count": 47,
     "metadata": {},
     "output_type": "execute_result"
    }
   ],
   "source": [
    "formula = \"price ~ sqft_living+sqft_living15 + sqft_lot+ sqft_lot15+sqft_above+bedrooms+Age_of_house+Age_of_renovations+condition+view+waterfront + sqft_lot+bathrooms\"\n",
    "model = ols(formula= formula, data = df).fit()\n",
    "model.summary()"
   ]
  },
  {
   "cell_type": "markdown",
   "metadata": {},
   "source": [
    "All p-values are below .05, which means this data is significant. The R Squared value is .57, which on a scale from 0 (the model does not fit the data) to 1 (the model exactly fits the data), this falls somewhere in the middle. "
   ]
  },
  {
   "cell_type": "markdown",
   "metadata": {},
   "source": []
  },
  {
   "cell_type": "code",
   "execution_count": 48,
   "metadata": {},
   "outputs": [],
   "source": [
    "data_fin = pd.concat([df.price, df.sqft_living, df.sqft_living15, df.sqft_above, df.sqft_lot, df.sqft_lot15, df.condition, df.view, df.waterfront, df.bedrooms, df.Age_of_house, df.bathrooms], axis=1)"
   ]
  },
  {
   "cell_type": "code",
   "execution_count": 49,
   "metadata": {},
   "outputs": [
    {
     "data": {
      "text/html": [
       "<table class=\"simpletable\">\n",
       "<caption>OLS Regression Results</caption>\n",
       "<tr>\n",
       "  <th>Dep. Variable:</th>          <td>price</td>      <th>  R-squared:         </th> <td>   0.573</td> \n",
       "</tr>\n",
       "<tr>\n",
       "  <th>Model:</th>                   <td>OLS</td>       <th>  Adj. R-squared:    </th> <td>   0.573</td> \n",
       "</tr>\n",
       "<tr>\n",
       "  <th>Method:</th>             <td>Least Squares</td>  <th>  F-statistic:       </th> <td>   2899.</td> \n",
       "</tr>\n",
       "<tr>\n",
       "  <th>Date:</th>             <td>Thu, 07 Mar 2019</td> <th>  Prob (F-statistic):</th>  <td>  0.00</td>  \n",
       "</tr>\n",
       "<tr>\n",
       "  <th>Time:</th>                 <td>06:32:35</td>     <th>  Log-Likelihood:    </th> <td> -7557.3</td> \n",
       "</tr>\n",
       "<tr>\n",
       "  <th>No. Observations:</th>      <td> 21583</td>      <th>  AIC:               </th> <td>1.514e+04</td>\n",
       "</tr>\n",
       "<tr>\n",
       "  <th>Df Residuals:</th>          <td> 21572</td>      <th>  BIC:               </th> <td>1.522e+04</td>\n",
       "</tr>\n",
       "<tr>\n",
       "  <th>Df Model:</th>              <td>    10</td>      <th>                     </th>     <td> </td>    \n",
       "</tr>\n",
       "<tr>\n",
       "  <th>Covariance Type:</th>      <td>nonrobust</td>    <th>                     </th>     <td> </td>    \n",
       "</tr>\n",
       "</table>\n",
       "<table class=\"simpletable\">\n",
       "<tr>\n",
       "         <td></td>            <th>coef</th>     <th>std err</th>      <th>t</th>      <th>P>|t|</th>  <th>[0.025</th>    <th>0.975]</th>  \n",
       "</tr>\n",
       "<tr>\n",
       "  <th>Intercept</th>       <td>    5.7117</td> <td>    0.071</td> <td>   80.788</td> <td> 0.000</td> <td>    5.573</td> <td>    5.850</td>\n",
       "</tr>\n",
       "<tr>\n",
       "  <th>waterfront[T.1]</th> <td>    0.4233</td> <td>    0.031</td> <td>   13.684</td> <td> 0.000</td> <td>    0.363</td> <td>    0.484</td>\n",
       "</tr>\n",
       "<tr>\n",
       "  <th>sqft_living</th>     <td>    0.4105</td> <td>    0.014</td> <td>   29.763</td> <td> 0.000</td> <td>    0.383</td> <td>    0.438</td>\n",
       "</tr>\n",
       "<tr>\n",
       "  <th>sqft_living15</th>   <td>    0.4550</td> <td>    0.011</td> <td>   39.713</td> <td> 0.000</td> <td>    0.433</td> <td>    0.477</td>\n",
       "</tr>\n",
       "<tr>\n",
       "  <th>sqft_lot</th>        <td>   -0.0470</td> <td>    0.007</td> <td>   -7.030</td> <td> 0.000</td> <td>   -0.060</td> <td>   -0.034</td>\n",
       "</tr>\n",
       "<tr>\n",
       "  <th>sqft_lot15</th>      <td>   -0.0509</td> <td>    0.007</td> <td>   -6.877</td> <td> 0.000</td> <td>   -0.065</td> <td>   -0.036</td>\n",
       "</tr>\n",
       "<tr>\n",
       "  <th>sqft_above</th>      <td>    0.1523</td> <td>    0.012</td> <td>   12.830</td> <td> 0.000</td> <td>    0.129</td> <td>    0.176</td>\n",
       "</tr>\n",
       "<tr>\n",
       "  <th>bathrooms</th>       <td>    0.1188</td> <td>    0.005</td> <td>   22.452</td> <td> 0.000</td> <td>    0.108</td> <td>    0.129</td>\n",
       "</tr>\n",
       "<tr>\n",
       "  <th>Age_of_house</th>    <td>    0.0045</td> <td>    0.000</td> <td>   43.358</td> <td> 0.000</td> <td>    0.004</td> <td>    0.005</td>\n",
       "</tr>\n",
       "<tr>\n",
       "  <th>condition</th>       <td>    0.1158</td> <td>    0.016</td> <td>    7.397</td> <td> 0.000</td> <td>    0.085</td> <td>    0.147</td>\n",
       "</tr>\n",
       "<tr>\n",
       "  <th>view</th>            <td>    0.3201</td> <td>    0.014</td> <td>   22.868</td> <td> 0.000</td> <td>    0.293</td> <td>    0.348</td>\n",
       "</tr>\n",
       "</table>\n",
       "<table class=\"simpletable\">\n",
       "<tr>\n",
       "  <th>Omnibus:</th>       <td> 5.383</td> <th>  Durbin-Watson:     </th> <td>   1.960</td>\n",
       "</tr>\n",
       "<tr>\n",
       "  <th>Prob(Omnibus):</th> <td> 0.068</td> <th>  Jarque-Bera (JB):  </th> <td>   5.388</td>\n",
       "</tr>\n",
       "<tr>\n",
       "  <th>Skew:</th>          <td>-0.034</td> <th>  Prob(JB):          </th> <td>  0.0676</td>\n",
       "</tr>\n",
       "<tr>\n",
       "  <th>Kurtosis:</th>      <td> 2.962</td> <th>  Cond. No.          </th> <td>1.78e+03</td>\n",
       "</tr>\n",
       "</table><br/><br/>Warnings:<br/>[1] Standard Errors assume that the covariance matrix of the errors is correctly specified.<br/>[2] The condition number is large, 1.78e+03. This might indicate that there are<br/>strong multicollinearity or other numerical problems."
      ],
      "text/plain": [
       "<class 'statsmodels.iolib.summary.Summary'>\n",
       "\"\"\"\n",
       "                            OLS Regression Results                            \n",
       "==============================================================================\n",
       "Dep. Variable:                  price   R-squared:                       0.573\n",
       "Model:                            OLS   Adj. R-squared:                  0.573\n",
       "Method:                 Least Squares   F-statistic:                     2899.\n",
       "Date:                Thu, 07 Mar 2019   Prob (F-statistic):               0.00\n",
       "Time:                        06:32:35   Log-Likelihood:                -7557.3\n",
       "No. Observations:               21583   AIC:                         1.514e+04\n",
       "Df Residuals:                   21572   BIC:                         1.522e+04\n",
       "Df Model:                          10                                         \n",
       "Covariance Type:            nonrobust                                         \n",
       "===================================================================================\n",
       "                      coef    std err          t      P>|t|      [0.025      0.975]\n",
       "-----------------------------------------------------------------------------------\n",
       "Intercept           5.7117      0.071     80.788      0.000       5.573       5.850\n",
       "waterfront[T.1]     0.4233      0.031     13.684      0.000       0.363       0.484\n",
       "sqft_living         0.4105      0.014     29.763      0.000       0.383       0.438\n",
       "sqft_living15       0.4550      0.011     39.713      0.000       0.433       0.477\n",
       "sqft_lot           -0.0470      0.007     -7.030      0.000      -0.060      -0.034\n",
       "sqft_lot15         -0.0509      0.007     -6.877      0.000      -0.065      -0.036\n",
       "sqft_above          0.1523      0.012     12.830      0.000       0.129       0.176\n",
       "bathrooms           0.1188      0.005     22.452      0.000       0.108       0.129\n",
       "Age_of_house        0.0045      0.000     43.358      0.000       0.004       0.005\n",
       "condition           0.1158      0.016      7.397      0.000       0.085       0.147\n",
       "view                0.3201      0.014     22.868      0.000       0.293       0.348\n",
       "==============================================================================\n",
       "Omnibus:                        5.383   Durbin-Watson:                   1.960\n",
       "Prob(Omnibus):                  0.068   Jarque-Bera (JB):                5.388\n",
       "Skew:                          -0.034   Prob(JB):                       0.0676\n",
       "Kurtosis:                       2.962   Cond. No.                     1.78e+03\n",
       "==============================================================================\n",
       "\n",
       "Warnings:\n",
       "[1] Standard Errors assume that the covariance matrix of the errors is correctly specified.\n",
       "[2] The condition number is large, 1.78e+03. This might indicate that there are\n",
       "strong multicollinearity or other numerical problems.\n",
       "\"\"\""
      ]
     },
     "execution_count": 49,
     "metadata": {},
     "output_type": "execute_result"
    }
   ],
   "source": [
    "formula = \"price ~ sqft_living+sqft_living15 + sqft_lot+ sqft_lot15 +sqft_above+bathrooms+Age_of_house+condition+view+waterfront + sqft_lot\"\n",
    "model = ols(formula= formula, data = data_fin).fit()\n",
    "model.summary()\n",
    "\n",
    "\n"
   ]
  },
  {
   "cell_type": "markdown",
   "metadata": {},
   "source": [
    "Now we will run recursive feature elimination to examine each varible's impact on the price of housing. We are looking for significant p values (below .05), and coefficents that are greater than .1. "
   ]
  },
  {
   "cell_type": "code",
   "execution_count": 50,
   "metadata": {},
   "outputs": [],
   "source": [
    "import statsmodels.formula.api as smf"
   ]
  },
  {
   "cell_type": "code",
   "execution_count": 51,
   "metadata": {},
   "outputs": [
    {
     "name": "stdout",
     "output_type": "stream",
     "text": [
      "kc_features: price~bedrooms\n",
      "------------------------------\n",
      "['bedrooms', 0.12291545971530826, 12.352995830294015, 0.20620939424615187, 0.0]\n",
      "kc_features: price~bathrooms\n",
      "------------------------------\n",
      "['bathrooms', 0.3024213981791507, 12.248007663721758, 0.3782185589253012, 0.0]\n",
      "kc_features: price~sqft_living\n",
      "------------------------------\n",
      "['sqft_living', 0.4541566082368288, 6.731407955665227, 0.8365659492279289, 0.0]\n",
      "kc_features: price~sqft_lot\n",
      "------------------------------\n",
      "['sqft_lot', 0.01889986818355216, 12.327162878229608, 0.08014373063493363, 1.507865934977836e-91]\n",
      "kc_features: price~floors\n",
      "------------------------------\n",
      "['floors', 0.08156281857574055, 12.654077170142752, 0.27222643552710135, 0.0]\n",
      "kc_features: price~view\n",
      "------------------------------\n",
      "['view', 0.11765175090591407, 12.992672902262415, 0.9445331913024394, 0.0]\n",
      "kc_features: price~condition\n",
      "------------------------------\n",
      "['condition', 0.0015318185041158783, 12.971403993253125, 0.12652037361574742, 8.831861680002768e-09]\n",
      "kc_features: price~grade\n",
      "------------------------------\n",
      "['grade', 0.4943514049387224, 10.631921827812178, 0.3154804254646297, 0.0]\n",
      "kc_features: price~sqft_above\n",
      "------------------------------\n",
      "['sqft_above', 0.3422290329491601, 7.716541122452437, 0.7209329633118208, 0.0]\n",
      "kc_features: price~sqft_basement\n",
      "------------------------------\n",
      "['sqft_basement', 0.09646176140943641, 12.941419362829706, 0.0003726103052406901, 0.0]\n",
      "kc_features: price~zipcode\n",
      "------------------------------\n",
      "['zipcode', 0.0015032367533593938, 50.403308408091505, -0.0003808774676426647, 1.2135809161269305e-08]\n",
      "kc_features: price~sqft_living15\n",
      "------------------------------\n",
      "['sqft_living15', 0.36816888750395416, 5.700447420684712, 0.9745093459159992, 0.0]\n",
      "kc_features: price~sqft_lot15\n",
      "------------------------------\n",
      "['sqft_lot15', 0.01516096500808739, 12.333546769565892, 0.07969003830043431, 1.1246330749834228e-73]\n",
      "kc_features: price~Age_of_house\n",
      "------------------------------\n",
      "['Age_of_house', 0.006645179629701903, 13.1176688768427, -0.0014596665875417011, 3.764915284039005e-33]\n",
      "kc_features: price~Age_of_renovations\n",
      "------------------------------\n",
      "['Age_of_renovations', 0.011181011487057746, 13.344872692786154, -0.0001535592262698783, 1.0392077728750469e-54]\n"
     ]
    }
   ],
   "source": [
    "col_names = df.describe().columns.drop(['price'])\n",
    "results = [['ind_var', 'r_squared', 'intercept', 'slope', 'p-value' ]]\n",
    "for idx, val in enumerate(col_names):\n",
    "    print (\"kc_features: price~\" + val)\n",
    "    print (\"------------------------------\")\n",
    "\n",
    "    f = 'price~' + val\n",
    "    model = smf.ols(formula=f, data=df).fit()\n",
    "    X_new = pd.DataFrame({val: [df[val].min(), df[val].max()]});\n",
    "    preds = model.predict(X_new)\n",
    "    results.append([val, model.rsquared, model.params[0], model.params[1], model.pvalues[1] ])\n",
    "    print(results[idx+1])\n"
   ]
  },
  {
   "cell_type": "code",
   "execution_count": 52,
   "metadata": {
    "scrolled": true
   },
   "outputs": [
    {
     "data": {
      "text/html": [
       "<div>\n",
       "<style scoped>\n",
       "    .dataframe tbody tr th:only-of-type {\n",
       "        vertical-align: middle;\n",
       "    }\n",
       "\n",
       "    .dataframe tbody tr th {\n",
       "        vertical-align: top;\n",
       "    }\n",
       "\n",
       "    .dataframe thead th {\n",
       "        text-align: right;\n",
       "    }\n",
       "</style>\n",
       "<table border=\"1\" class=\"dataframe\">\n",
       "  <thead>\n",
       "    <tr style=\"text-align: right;\">\n",
       "      <th></th>\n",
       "      <th>0</th>\n",
       "      <th>1</th>\n",
       "      <th>2</th>\n",
       "      <th>3</th>\n",
       "      <th>4</th>\n",
       "    </tr>\n",
       "  </thead>\n",
       "  <tbody>\n",
       "    <tr>\n",
       "      <th>0</th>\n",
       "      <td>ind_var</td>\n",
       "      <td>r_squared</td>\n",
       "      <td>intercept</td>\n",
       "      <td>slope</td>\n",
       "      <td>p-value</td>\n",
       "    </tr>\n",
       "    <tr>\n",
       "      <th>1</th>\n",
       "      <td>bedrooms</td>\n",
       "      <td>0.122915</td>\n",
       "      <td>12.353</td>\n",
       "      <td>0.206209</td>\n",
       "      <td>0</td>\n",
       "    </tr>\n",
       "    <tr>\n",
       "      <th>2</th>\n",
       "      <td>bathrooms</td>\n",
       "      <td>0.302421</td>\n",
       "      <td>12.248</td>\n",
       "      <td>0.378219</td>\n",
       "      <td>0</td>\n",
       "    </tr>\n",
       "    <tr>\n",
       "      <th>3</th>\n",
       "      <td>sqft_living</td>\n",
       "      <td>0.454157</td>\n",
       "      <td>6.73141</td>\n",
       "      <td>0.836566</td>\n",
       "      <td>0</td>\n",
       "    </tr>\n",
       "    <tr>\n",
       "      <th>4</th>\n",
       "      <td>sqft_lot</td>\n",
       "      <td>0.0188999</td>\n",
       "      <td>12.3272</td>\n",
       "      <td>0.0801437</td>\n",
       "      <td>1.50787e-91</td>\n",
       "    </tr>\n",
       "    <tr>\n",
       "      <th>5</th>\n",
       "      <td>floors</td>\n",
       "      <td>0.0815628</td>\n",
       "      <td>12.6541</td>\n",
       "      <td>0.272226</td>\n",
       "      <td>0</td>\n",
       "    </tr>\n",
       "    <tr>\n",
       "      <th>6</th>\n",
       "      <td>view</td>\n",
       "      <td>0.117652</td>\n",
       "      <td>12.9927</td>\n",
       "      <td>0.944533</td>\n",
       "      <td>0</td>\n",
       "    </tr>\n",
       "    <tr>\n",
       "      <th>7</th>\n",
       "      <td>condition</td>\n",
       "      <td>0.00153182</td>\n",
       "      <td>12.9714</td>\n",
       "      <td>0.12652</td>\n",
       "      <td>8.83186e-09</td>\n",
       "    </tr>\n",
       "    <tr>\n",
       "      <th>8</th>\n",
       "      <td>grade</td>\n",
       "      <td>0.494351</td>\n",
       "      <td>10.6319</td>\n",
       "      <td>0.31548</td>\n",
       "      <td>0</td>\n",
       "    </tr>\n",
       "    <tr>\n",
       "      <th>9</th>\n",
       "      <td>sqft_above</td>\n",
       "      <td>0.342229</td>\n",
       "      <td>7.71654</td>\n",
       "      <td>0.720933</td>\n",
       "      <td>0</td>\n",
       "    </tr>\n",
       "    <tr>\n",
       "      <th>10</th>\n",
       "      <td>sqft_basement</td>\n",
       "      <td>0.0964618</td>\n",
       "      <td>12.9414</td>\n",
       "      <td>0.00037261</td>\n",
       "      <td>0</td>\n",
       "    </tr>\n",
       "    <tr>\n",
       "      <th>11</th>\n",
       "      <td>zipcode</td>\n",
       "      <td>0.00150324</td>\n",
       "      <td>50.4033</td>\n",
       "      <td>-0.000380877</td>\n",
       "      <td>1.21358e-08</td>\n",
       "    </tr>\n",
       "    <tr>\n",
       "      <th>12</th>\n",
       "      <td>sqft_living15</td>\n",
       "      <td>0.368169</td>\n",
       "      <td>5.70045</td>\n",
       "      <td>0.974509</td>\n",
       "      <td>0</td>\n",
       "    </tr>\n",
       "    <tr>\n",
       "      <th>13</th>\n",
       "      <td>sqft_lot15</td>\n",
       "      <td>0.015161</td>\n",
       "      <td>12.3335</td>\n",
       "      <td>0.07969</td>\n",
       "      <td>1.12463e-73</td>\n",
       "    </tr>\n",
       "    <tr>\n",
       "      <th>14</th>\n",
       "      <td>Age_of_house</td>\n",
       "      <td>0.00664518</td>\n",
       "      <td>13.1177</td>\n",
       "      <td>-0.00145967</td>\n",
       "      <td>3.76492e-33</td>\n",
       "    </tr>\n",
       "    <tr>\n",
       "      <th>15</th>\n",
       "      <td>Age_of_renovations</td>\n",
       "      <td>0.011181</td>\n",
       "      <td>13.3449</td>\n",
       "      <td>-0.000153559</td>\n",
       "      <td>1.03921e-54</td>\n",
       "    </tr>\n",
       "  </tbody>\n",
       "</table>\n",
       "</div>"
      ],
      "text/plain": [
       "                     0           1          2            3            4\n",
       "0              ind_var   r_squared  intercept        slope      p-value\n",
       "1             bedrooms    0.122915     12.353     0.206209            0\n",
       "2            bathrooms    0.302421     12.248     0.378219            0\n",
       "3          sqft_living    0.454157    6.73141     0.836566            0\n",
       "4             sqft_lot   0.0188999    12.3272    0.0801437  1.50787e-91\n",
       "5               floors   0.0815628    12.6541     0.272226            0\n",
       "6                 view    0.117652    12.9927     0.944533            0\n",
       "7            condition  0.00153182    12.9714      0.12652  8.83186e-09\n",
       "8                grade    0.494351    10.6319      0.31548            0\n",
       "9           sqft_above    0.342229    7.71654     0.720933            0\n",
       "10       sqft_basement   0.0964618    12.9414   0.00037261            0\n",
       "11             zipcode  0.00150324    50.4033 -0.000380877  1.21358e-08\n",
       "12       sqft_living15    0.368169    5.70045     0.974509            0\n",
       "13          sqft_lot15    0.015161    12.3335      0.07969  1.12463e-73\n",
       "14        Age_of_house  0.00664518    13.1177  -0.00145967  3.76492e-33\n",
       "15  Age_of_renovations    0.011181    13.3449 -0.000153559  1.03921e-54"
      ]
     },
     "execution_count": 52,
     "metadata": {},
     "output_type": "execute_result"
    }
   ],
   "source": [
    "pd.DataFrame(results)"
   ]
  },
  {
   "cell_type": "markdown",
   "metadata": {},
   "source": [
    "The standards for significance and model fit are an R-squared value <0.2 and P Value greater than .05. These are dropped, although it is important to note that all P Values are within the acceptable range. "
   ]
  },
  {
   "cell_type": "code",
   "execution_count": 69,
   "metadata": {},
   "outputs": [],
   "source": [
    "df2 = df.drop([\"condition\", \"sqft_lot\", \"sqft_basement\", \"sqft_lot15\", \"Age_of_house\", \"Age_of_renovations\", \"zipcode\", \"floors\", \"view\", \"bedrooms\"], axis=1)"
   ]
  },
  {
   "cell_type": "code",
   "execution_count": 70,
   "metadata": {
    "scrolled": true
   },
   "outputs": [
    {
     "name": "stdout",
     "output_type": "stream",
     "text": [
      "df2: price~bathrooms\n",
      "------------------------------\n",
      "['bathrooms', 0.3024213981791507, 12.248007663721758, 0.3782185589253012, 0.0]\n",
      "df2: price~sqft_living\n",
      "------------------------------\n",
      "['sqft_living', 0.4541566082368288, 6.731407955665227, 0.8365659492279289, 0.0]\n",
      "df2: price~grade\n",
      "------------------------------\n",
      "['grade', 0.4943514049387224, 10.631921827812178, 0.3154804254646297, 0.0]\n",
      "df2: price~sqft_above\n",
      "------------------------------\n",
      "['sqft_above', 0.3422290329491601, 7.716541122452437, 0.7209329633118208, 0.0]\n",
      "df2: price~sqft_living15\n",
      "------------------------------\n",
      "['sqft_living15', 0.36816888750395416, 5.700447420684712, 0.9745093459159992, 0.0]\n"
     ]
    }
   ],
   "source": [
    "col_names = df2.describe().columns.drop(['price'])\n",
    "results = [['ind_var', 'r_squared', 'intercept', 'slope', 'p-value' ]]\n",
    "for idx, val in enumerate(col_names):\n",
    "    print (\"df2: price~\" + val)\n",
    "    print (\"------------------------------\")\n",
    "\n",
    "    f = 'price~' + val\n",
    "    model = smf.ols(formula=f, data=df2).fit()\n",
    "    X_new = pd.DataFrame({val: [df2[val].min(), df2[val].max()]});\n",
    "    preds = model.predict(X_new)\n",
    "    results.append([val, model.rsquared, model.params[0], model.params[1], model.pvalues[1] ])\n",
    "    print(results[idx+1])\n"
   ]
  },
  {
   "cell_type": "code",
   "execution_count": null,
   "metadata": {},
   "outputs": [],
   "source": []
  },
  {
   "cell_type": "code",
   "execution_count": 71,
   "metadata": {},
   "outputs": [
    {
     "data": {
      "text/html": [
       "<div>\n",
       "<style scoped>\n",
       "    .dataframe tbody tr th:only-of-type {\n",
       "        vertical-align: middle;\n",
       "    }\n",
       "\n",
       "    .dataframe tbody tr th {\n",
       "        vertical-align: top;\n",
       "    }\n",
       "\n",
       "    .dataframe thead th {\n",
       "        text-align: right;\n",
       "    }\n",
       "</style>\n",
       "<table border=\"1\" class=\"dataframe\">\n",
       "  <thead>\n",
       "    <tr style=\"text-align: right;\">\n",
       "      <th></th>\n",
       "      <th>0</th>\n",
       "      <th>1</th>\n",
       "      <th>2</th>\n",
       "      <th>3</th>\n",
       "      <th>4</th>\n",
       "    </tr>\n",
       "  </thead>\n",
       "  <tbody>\n",
       "    <tr>\n",
       "      <th>0</th>\n",
       "      <td>ind_var</td>\n",
       "      <td>r_squared</td>\n",
       "      <td>intercept</td>\n",
       "      <td>slope</td>\n",
       "      <td>p-value</td>\n",
       "    </tr>\n",
       "    <tr>\n",
       "      <th>1</th>\n",
       "      <td>bathrooms</td>\n",
       "      <td>0.302421</td>\n",
       "      <td>12.248</td>\n",
       "      <td>0.378219</td>\n",
       "      <td>0</td>\n",
       "    </tr>\n",
       "    <tr>\n",
       "      <th>2</th>\n",
       "      <td>sqft_living</td>\n",
       "      <td>0.454157</td>\n",
       "      <td>6.73141</td>\n",
       "      <td>0.836566</td>\n",
       "      <td>0</td>\n",
       "    </tr>\n",
       "    <tr>\n",
       "      <th>3</th>\n",
       "      <td>grade</td>\n",
       "      <td>0.494351</td>\n",
       "      <td>10.6319</td>\n",
       "      <td>0.31548</td>\n",
       "      <td>0</td>\n",
       "    </tr>\n",
       "    <tr>\n",
       "      <th>4</th>\n",
       "      <td>sqft_above</td>\n",
       "      <td>0.342229</td>\n",
       "      <td>7.71654</td>\n",
       "      <td>0.720933</td>\n",
       "      <td>0</td>\n",
       "    </tr>\n",
       "    <tr>\n",
       "      <th>5</th>\n",
       "      <td>sqft_living15</td>\n",
       "      <td>0.368169</td>\n",
       "      <td>5.70045</td>\n",
       "      <td>0.974509</td>\n",
       "      <td>0</td>\n",
       "    </tr>\n",
       "  </tbody>\n",
       "</table>\n",
       "</div>"
      ],
      "text/plain": [
       "               0          1          2         3        4\n",
       "0        ind_var  r_squared  intercept     slope  p-value\n",
       "1      bathrooms   0.302421     12.248  0.378219        0\n",
       "2    sqft_living   0.454157    6.73141  0.836566        0\n",
       "3          grade   0.494351    10.6319   0.31548        0\n",
       "4     sqft_above   0.342229    7.71654  0.720933        0\n",
       "5  sqft_living15   0.368169    5.70045  0.974509        0"
      ]
     },
     "execution_count": 71,
     "metadata": {},
     "output_type": "execute_result"
    }
   ],
   "source": [
    "pd.DataFrame(results)"
   ]
  },
  {
   "cell_type": "code",
   "execution_count": 73,
   "metadata": {
    "scrolled": true
   },
   "outputs": [
    {
     "data": {
      "text/html": [
       "<table class=\"simpletable\">\n",
       "<caption>OLS Regression Results</caption>\n",
       "<tr>\n",
       "  <th>Dep. Variable:</th>          <td>price</td>      <th>  R-squared:         </th> <td>   0.571</td> \n",
       "</tr>\n",
       "<tr>\n",
       "  <th>Model:</th>                   <td>OLS</td>       <th>  Adj. R-squared:    </th> <td>   0.570</td> \n",
       "</tr>\n",
       "<tr>\n",
       "  <th>Method:</th>             <td>Least Squares</td>  <th>  F-statistic:       </th> <td>   4778.</td> \n",
       "</tr>\n",
       "<tr>\n",
       "  <th>Date:</th>             <td>Thu, 07 Mar 2019</td> <th>  Prob (F-statistic):</th>  <td>  0.00</td>  \n",
       "</tr>\n",
       "<tr>\n",
       "  <th>Time:</th>                 <td>06:39:06</td>     <th>  Log-Likelihood:    </th> <td> -7626.5</td> \n",
       "</tr>\n",
       "<tr>\n",
       "  <th>No. Observations:</th>      <td> 21583</td>      <th>  AIC:               </th> <td>1.527e+04</td>\n",
       "</tr>\n",
       "<tr>\n",
       "  <th>Df Residuals:</th>          <td> 21576</td>      <th>  BIC:               </th> <td>1.532e+04</td>\n",
       "</tr>\n",
       "<tr>\n",
       "  <th>Df Model:</th>              <td>     6</td>      <th>                     </th>     <td> </td>    \n",
       "</tr>\n",
       "<tr>\n",
       "  <th>Covariance Type:</th>      <td>nonrobust</td>    <th>                     </th>     <td> </td>    \n",
       "</tr>\n",
       "</table>\n",
       "<table class=\"simpletable\">\n",
       "<tr>\n",
       "         <td></td>            <th>coef</th>     <th>std err</th>      <th>t</th>      <th>P>|t|</th>  <th>[0.025</th>    <th>0.975]</th>  \n",
       "</tr>\n",
       "<tr>\n",
       "  <th>Intercept</th>       <td>    7.9516</td> <td>    0.073</td> <td>  108.344</td> <td> 0.000</td> <td>    7.808</td> <td>    8.095</td>\n",
       "</tr>\n",
       "<tr>\n",
       "  <th>waterfront[T.1]</th> <td>    0.6636</td> <td>    0.029</td> <td>   23.089</td> <td> 0.000</td> <td>    0.607</td> <td>    0.720</td>\n",
       "</tr>\n",
       "<tr>\n",
       "  <th>sqft_living</th>     <td>    0.5133</td> <td>    0.013</td> <td>   39.018</td> <td> 0.000</td> <td>    0.488</td> <td>    0.539</td>\n",
       "</tr>\n",
       "<tr>\n",
       "  <th>bathrooms</th>       <td>   -0.0046</td> <td>    0.005</td> <td>   -0.932</td> <td> 0.351</td> <td>   -0.014</td> <td>    0.005</td>\n",
       "</tr>\n",
       "<tr>\n",
       "  <th>grade</th>           <td>    0.2046</td> <td>    0.003</td> <td>   61.518</td> <td> 0.000</td> <td>    0.198</td> <td>    0.211</td>\n",
       "</tr>\n",
       "<tr>\n",
       "  <th>sqft_living15</th>   <td>    0.1962</td> <td>    0.011</td> <td>   17.185</td> <td> 0.000</td> <td>    0.174</td> <td>    0.219</td>\n",
       "</tr>\n",
       "<tr>\n",
       "  <th>sqft_above</th>      <td>   -0.2462</td> <td>    0.012</td> <td>  -21.268</td> <td> 0.000</td> <td>   -0.269</td> <td>   -0.223</td>\n",
       "</tr>\n",
       "</table>\n",
       "<table class=\"simpletable\">\n",
       "<tr>\n",
       "  <th>Omnibus:</th>       <td>43.458</td> <th>  Durbin-Watson:     </th> <td>   1.971</td>\n",
       "</tr>\n",
       "<tr>\n",
       "  <th>Prob(Omnibus):</th> <td> 0.000</td> <th>  Jarque-Bera (JB):  </th> <td>  41.856</td>\n",
       "</tr>\n",
       "<tr>\n",
       "  <th>Skew:</th>          <td> 0.089</td> <th>  Prob(JB):          </th> <td>8.15e-10</td>\n",
       "</tr>\n",
       "<tr>\n",
       "  <th>Kurtosis:</th>      <td> 2.877</td> <th>  Cond. No.          </th> <td>    481.</td>\n",
       "</tr>\n",
       "</table><br/><br/>Warnings:<br/>[1] Standard Errors assume that the covariance matrix of the errors is correctly specified."
      ],
      "text/plain": [
       "<class 'statsmodels.iolib.summary.Summary'>\n",
       "\"\"\"\n",
       "                            OLS Regression Results                            \n",
       "==============================================================================\n",
       "Dep. Variable:                  price   R-squared:                       0.571\n",
       "Model:                            OLS   Adj. R-squared:                  0.570\n",
       "Method:                 Least Squares   F-statistic:                     4778.\n",
       "Date:                Thu, 07 Mar 2019   Prob (F-statistic):               0.00\n",
       "Time:                        06:39:06   Log-Likelihood:                -7626.5\n",
       "No. Observations:               21583   AIC:                         1.527e+04\n",
       "Df Residuals:                   21576   BIC:                         1.532e+04\n",
       "Df Model:                           6                                         \n",
       "Covariance Type:            nonrobust                                         \n",
       "===================================================================================\n",
       "                      coef    std err          t      P>|t|      [0.025      0.975]\n",
       "-----------------------------------------------------------------------------------\n",
       "Intercept           7.9516      0.073    108.344      0.000       7.808       8.095\n",
       "waterfront[T.1]     0.6636      0.029     23.089      0.000       0.607       0.720\n",
       "sqft_living         0.5133      0.013     39.018      0.000       0.488       0.539\n",
       "bathrooms          -0.0046      0.005     -0.932      0.351      -0.014       0.005\n",
       "grade               0.2046      0.003     61.518      0.000       0.198       0.211\n",
       "sqft_living15       0.1962      0.011     17.185      0.000       0.174       0.219\n",
       "sqft_above         -0.2462      0.012    -21.268      0.000      -0.269      -0.223\n",
       "==============================================================================\n",
       "Omnibus:                       43.458   Durbin-Watson:                   1.971\n",
       "Prob(Omnibus):                  0.000   Jarque-Bera (JB):               41.856\n",
       "Skew:                           0.089   Prob(JB):                     8.15e-10\n",
       "Kurtosis:                       2.877   Cond. No.                         481.\n",
       "==============================================================================\n",
       "\n",
       "Warnings:\n",
       "[1] Standard Errors assume that the covariance matrix of the errors is correctly specified.\n",
       "\"\"\""
      ]
     },
     "execution_count": 73,
     "metadata": {},
     "output_type": "execute_result"
    }
   ],
   "source": [
    "formula = \"price ~ sqft_living+bathrooms+grade+waterfront+sqft_living15+sqft_above\"\n",
    "model = ols(formula= formula, data = df).fit()\n",
    "model.summary()"
   ]
  },
  {
   "cell_type": "markdown",
   "metadata": {},
   "source": [
    "When Waterfront was added, it bathrooms becomes insignificant, and we need to drop that variable. "
   ]
  },
  {
   "cell_type": "code",
   "execution_count": 75,
   "metadata": {
    "scrolled": false
   },
   "outputs": [
    {
     "data": {
      "text/html": [
       "<table class=\"simpletable\">\n",
       "<caption>OLS Regression Results</caption>\n",
       "<tr>\n",
       "  <th>Dep. Variable:</th>          <td>price</td>      <th>  R-squared:         </th> <td>   0.571</td> \n",
       "</tr>\n",
       "<tr>\n",
       "  <th>Model:</th>                   <td>OLS</td>       <th>  Adj. R-squared:    </th> <td>   0.570</td> \n",
       "</tr>\n",
       "<tr>\n",
       "  <th>Method:</th>             <td>Least Squares</td>  <th>  F-statistic:       </th> <td>   5734.</td> \n",
       "</tr>\n",
       "<tr>\n",
       "  <th>Date:</th>             <td>Thu, 07 Mar 2019</td> <th>  Prob (F-statistic):</th>  <td>  0.00</td>  \n",
       "</tr>\n",
       "<tr>\n",
       "  <th>Time:</th>                 <td>06:40:20</td>     <th>  Log-Likelihood:    </th> <td> -7626.9</td> \n",
       "</tr>\n",
       "<tr>\n",
       "  <th>No. Observations:</th>      <td> 21583</td>      <th>  AIC:               </th> <td>1.527e+04</td>\n",
       "</tr>\n",
       "<tr>\n",
       "  <th>Df Residuals:</th>          <td> 21577</td>      <th>  BIC:               </th> <td>1.531e+04</td>\n",
       "</tr>\n",
       "<tr>\n",
       "  <th>Df Model:</th>              <td>     5</td>      <th>                     </th>     <td> </td>    \n",
       "</tr>\n",
       "<tr>\n",
       "  <th>Covariance Type:</th>      <td>nonrobust</td>    <th>                     </th>     <td> </td>    \n",
       "</tr>\n",
       "</table>\n",
       "<table class=\"simpletable\">\n",
       "<tr>\n",
       "         <td></td>            <th>coef</th>     <th>std err</th>      <th>t</th>      <th>P>|t|</th>  <th>[0.025</th>    <th>0.975]</th>  \n",
       "</tr>\n",
       "<tr>\n",
       "  <th>Intercept</th>       <td>    7.9820</td> <td>    0.066</td> <td>  121.378</td> <td> 0.000</td> <td>    7.853</td> <td>    8.111</td>\n",
       "</tr>\n",
       "<tr>\n",
       "  <th>waterfront[T.1]</th> <td>    0.6636</td> <td>    0.029</td> <td>   23.089</td> <td> 0.000</td> <td>    0.607</td> <td>    0.720</td>\n",
       "</tr>\n",
       "<tr>\n",
       "  <th>sqft_living</th>     <td>    0.5086</td> <td>    0.012</td> <td>   41.980</td> <td> 0.000</td> <td>    0.485</td> <td>    0.532</td>\n",
       "</tr>\n",
       "<tr>\n",
       "  <th>grade</th>           <td>    0.2039</td> <td>    0.003</td> <td>   62.846</td> <td> 0.000</td> <td>    0.198</td> <td>    0.210</td>\n",
       "</tr>\n",
       "<tr>\n",
       "  <th>sqft_living15</th>   <td>    0.1970</td> <td>    0.011</td> <td>   17.297</td> <td> 0.000</td> <td>    0.175</td> <td>    0.219</td>\n",
       "</tr>\n",
       "<tr>\n",
       "  <th>sqft_above</th>      <td>   -0.2468</td> <td>    0.012</td> <td>  -21.353</td> <td> 0.000</td> <td>   -0.269</td> <td>   -0.224</td>\n",
       "</tr>\n",
       "</table>\n",
       "<table class=\"simpletable\">\n",
       "<tr>\n",
       "  <th>Omnibus:</th>       <td>44.568</td> <th>  Durbin-Watson:     </th> <td>   1.971</td>\n",
       "</tr>\n",
       "<tr>\n",
       "  <th>Prob(Omnibus):</th> <td> 0.000</td> <th>  Jarque-Bera (JB):  </th> <td>  42.906</td>\n",
       "</tr>\n",
       "<tr>\n",
       "  <th>Skew:</th>          <td> 0.090</td> <th>  Prob(JB):          </th> <td>4.82e-10</td>\n",
       "</tr>\n",
       "<tr>\n",
       "  <th>Kurtosis:</th>      <td> 2.875</td> <th>  Cond. No.          </th> <td>    428.</td>\n",
       "</tr>\n",
       "</table><br/><br/>Warnings:<br/>[1] Standard Errors assume that the covariance matrix of the errors is correctly specified."
      ],
      "text/plain": [
       "<class 'statsmodels.iolib.summary.Summary'>\n",
       "\"\"\"\n",
       "                            OLS Regression Results                            \n",
       "==============================================================================\n",
       "Dep. Variable:                  price   R-squared:                       0.571\n",
       "Model:                            OLS   Adj. R-squared:                  0.570\n",
       "Method:                 Least Squares   F-statistic:                     5734.\n",
       "Date:                Thu, 07 Mar 2019   Prob (F-statistic):               0.00\n",
       "Time:                        06:40:20   Log-Likelihood:                -7626.9\n",
       "No. Observations:               21583   AIC:                         1.527e+04\n",
       "Df Residuals:                   21577   BIC:                         1.531e+04\n",
       "Df Model:                           5                                         \n",
       "Covariance Type:            nonrobust                                         \n",
       "===================================================================================\n",
       "                      coef    std err          t      P>|t|      [0.025      0.975]\n",
       "-----------------------------------------------------------------------------------\n",
       "Intercept           7.9820      0.066    121.378      0.000       7.853       8.111\n",
       "waterfront[T.1]     0.6636      0.029     23.089      0.000       0.607       0.720\n",
       "sqft_living         0.5086      0.012     41.980      0.000       0.485       0.532\n",
       "grade               0.2039      0.003     62.846      0.000       0.198       0.210\n",
       "sqft_living15       0.1970      0.011     17.297      0.000       0.175       0.219\n",
       "sqft_above         -0.2468      0.012    -21.353      0.000      -0.269      -0.224\n",
       "==============================================================================\n",
       "Omnibus:                       44.568   Durbin-Watson:                   1.971\n",
       "Prob(Omnibus):                  0.000   Jarque-Bera (JB):               42.906\n",
       "Skew:                           0.090   Prob(JB):                     4.82e-10\n",
       "Kurtosis:                       2.875   Cond. No.                         428.\n",
       "==============================================================================\n",
       "\n",
       "Warnings:\n",
       "[1] Standard Errors assume that the covariance matrix of the errors is correctly specified.\n",
       "\"\"\""
      ]
     },
     "execution_count": 75,
     "metadata": {},
     "output_type": "execute_result"
    }
   ],
   "source": [
    "formula = \"price ~ sqft_living+grade+waterfront+sqft_living15+sqft_above\"\n",
    "model = ols(formula= formula, data = df).fit()\n",
    "model.summary()"
   ]
  },
  {
   "cell_type": "markdown",
   "metadata": {},
   "source": [
    "Similarily, the sqft_above varible is also suspect due to the coefficient. "
   ]
  },
  {
   "cell_type": "code",
   "execution_count": 77,
   "metadata": {},
   "outputs": [
    {
     "data": {
      "text/html": [
       "<table class=\"simpletable\">\n",
       "<caption>OLS Regression Results</caption>\n",
       "<tr>\n",
       "  <th>Dep. Variable:</th>          <td>price</td>      <th>  R-squared:         </th> <td>   0.561</td> \n",
       "</tr>\n",
       "<tr>\n",
       "  <th>Model:</th>                   <td>OLS</td>       <th>  Adj. R-squared:    </th> <td>   0.561</td> \n",
       "</tr>\n",
       "<tr>\n",
       "  <th>Method:</th>             <td>Least Squares</td>  <th>  F-statistic:       </th> <td>   6907.</td> \n",
       "</tr>\n",
       "<tr>\n",
       "  <th>Date:</th>             <td>Thu, 07 Mar 2019</td> <th>  Prob (F-statistic):</th>  <td>  0.00</td>  \n",
       "</tr>\n",
       "<tr>\n",
       "  <th>Time:</th>                 <td>06:41:28</td>     <th>  Log-Likelihood:    </th> <td> -7852.6</td> \n",
       "</tr>\n",
       "<tr>\n",
       "  <th>No. Observations:</th>      <td> 21583</td>      <th>  AIC:               </th> <td>1.572e+04</td>\n",
       "</tr>\n",
       "<tr>\n",
       "  <th>Df Residuals:</th>          <td> 21578</td>      <th>  BIC:               </th> <td>1.576e+04</td>\n",
       "</tr>\n",
       "<tr>\n",
       "  <th>Df Model:</th>              <td>     4</td>      <th>                     </th>     <td> </td>    \n",
       "</tr>\n",
       "<tr>\n",
       "  <th>Covariance Type:</th>      <td>nonrobust</td>    <th>                     </th>     <td> </td>    \n",
       "</tr>\n",
       "</table>\n",
       "<table class=\"simpletable\">\n",
       "<tr>\n",
       "         <td></td>            <th>coef</th>     <th>std err</th>      <th>t</th>      <th>P>|t|</th>  <th>[0.025</th>    <th>0.975]</th>  \n",
       "</tr>\n",
       "<tr>\n",
       "  <th>Intercept</th>       <td>    7.7382</td> <td>    0.065</td> <td>  118.245</td> <td> 0.000</td> <td>    7.610</td> <td>    7.866</td>\n",
       "</tr>\n",
       "<tr>\n",
       "  <th>waterfront[T.1]</th> <td>    0.6837</td> <td>    0.029</td> <td>   23.552</td> <td> 0.000</td> <td>    0.627</td> <td>    0.741</td>\n",
       "</tr>\n",
       "<tr>\n",
       "  <th>sqft_living</th>     <td>    0.3470</td> <td>    0.010</td> <td>   36.297</td> <td> 0.000</td> <td>    0.328</td> <td>    0.366</td>\n",
       "</tr>\n",
       "<tr>\n",
       "  <th>grade</th>           <td>    0.1862</td> <td>    0.003</td> <td>   58.745</td> <td> 0.000</td> <td>    0.180</td> <td>    0.192</td>\n",
       "</tr>\n",
       "<tr>\n",
       "  <th>sqft_living15</th>   <td>    0.1670</td> <td>    0.011</td> <td>   14.628</td> <td> 0.000</td> <td>    0.145</td> <td>    0.189</td>\n",
       "</tr>\n",
       "</table>\n",
       "<table class=\"simpletable\">\n",
       "<tr>\n",
       "  <th>Omnibus:</th>       <td>91.343</td> <th>  Durbin-Watson:     </th> <td>   1.970</td>\n",
       "</tr>\n",
       "<tr>\n",
       "  <th>Prob(Omnibus):</th> <td> 0.000</td> <th>  Jarque-Bera (JB):  </th> <td>  78.449</td>\n",
       "</tr>\n",
       "<tr>\n",
       "  <th>Skew:</th>          <td> 0.093</td> <th>  Prob(JB):          </th> <td>9.22e-18</td>\n",
       "</tr>\n",
       "<tr>\n",
       "  <th>Kurtosis:</th>      <td> 2.771</td> <th>  Cond. No.          </th> <td>    368.</td>\n",
       "</tr>\n",
       "</table><br/><br/>Warnings:<br/>[1] Standard Errors assume that the covariance matrix of the errors is correctly specified."
      ],
      "text/plain": [
       "<class 'statsmodels.iolib.summary.Summary'>\n",
       "\"\"\"\n",
       "                            OLS Regression Results                            \n",
       "==============================================================================\n",
       "Dep. Variable:                  price   R-squared:                       0.561\n",
       "Model:                            OLS   Adj. R-squared:                  0.561\n",
       "Method:                 Least Squares   F-statistic:                     6907.\n",
       "Date:                Thu, 07 Mar 2019   Prob (F-statistic):               0.00\n",
       "Time:                        06:41:28   Log-Likelihood:                -7852.6\n",
       "No. Observations:               21583   AIC:                         1.572e+04\n",
       "Df Residuals:                   21578   BIC:                         1.576e+04\n",
       "Df Model:                           4                                         \n",
       "Covariance Type:            nonrobust                                         \n",
       "===================================================================================\n",
       "                      coef    std err          t      P>|t|      [0.025      0.975]\n",
       "-----------------------------------------------------------------------------------\n",
       "Intercept           7.7382      0.065    118.245      0.000       7.610       7.866\n",
       "waterfront[T.1]     0.6837      0.029     23.552      0.000       0.627       0.741\n",
       "sqft_living         0.3470      0.010     36.297      0.000       0.328       0.366\n",
       "grade               0.1862      0.003     58.745      0.000       0.180       0.192\n",
       "sqft_living15       0.1670      0.011     14.628      0.000       0.145       0.189\n",
       "==============================================================================\n",
       "Omnibus:                       91.343   Durbin-Watson:                   1.970\n",
       "Prob(Omnibus):                  0.000   Jarque-Bera (JB):               78.449\n",
       "Skew:                           0.093   Prob(JB):                     9.22e-18\n",
       "Kurtosis:                       2.771   Cond. No.                         368.\n",
       "==============================================================================\n",
       "\n",
       "Warnings:\n",
       "[1] Standard Errors assume that the covariance matrix of the errors is correctly specified.\n",
       "\"\"\""
      ]
     },
     "execution_count": 77,
     "metadata": {},
     "output_type": "execute_result"
    }
   ],
   "source": [
    "formula = \"price ~ sqft_living+grade+waterfront+sqft_living15\"\n",
    "model = ols(formula= formula, data = df).fit()\n",
    "model.summary()"
   ]
  },
  {
   "cell_type": "markdown",
   "metadata": {},
   "source": [
    "Final model - waterfront, sqft_living, grade, and sqft_living15 all have an impact on price on King County housing. "
   ]
  },
  {
   "cell_type": "code",
   "execution_count": null,
   "metadata": {},
   "outputs": [],
   "source": []
  }
 ],
 "metadata": {
  "kernelspec": {
   "display_name": "learn-env",
   "language": "python",
   "name": "learn-env"
  },
  "language_info": {
   "codemirror_mode": {
    "name": "ipython",
    "version": 3
   },
   "file_extension": ".py",
   "mimetype": "text/x-python",
   "name": "python",
   "nbconvert_exporter": "python",
   "pygments_lexer": "ipython3",
   "version": "3.6.6"
  }
 },
 "nbformat": 4,
 "nbformat_minor": 2
}
